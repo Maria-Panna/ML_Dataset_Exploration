{
  "cells": [
    {
      "cell_type": "markdown",
      "metadata": {
        "id": "4iMytthKJHfW"
      },
      "source": [
        "Upload lab_data.csv file to Google Colab Workspace\n",
        "\n"
      ]
    },
    {
      "cell_type": "code",
      "execution_count": 39,
      "metadata": {
        "id": "R0krIjo7QwwL"
      },
      "outputs": [],
      "source": [
        "# You can place imports here\n",
        "import pandas as pd\n",
        "import numpy as np\n",
        "import matplotlib.pyplot as plt\n",
        "%matplotlib inline\n",
        "import seaborn as sns"
      ]
    },
    {
      "cell_type": "markdown",
      "metadata": {
        "id": "QUv2ueaAGDys"
      },
      "source": [
        "Import csv dataset using pandas library. Wite it to *data_df* Dataframe object"
      ]
    },
    {
      "cell_type": "code",
      "execution_count": 40,
      "metadata": {
        "id": "Ecs-LzB8QxMt"
      },
      "outputs": [],
      "source": [
        "data_df = pd.read_csv('/content/lab_data (1).csv')"
      ]
    },
    {
      "cell_type": "markdown",
      "metadata": {
        "id": "TBI9cIklGL1U"
      },
      "source": [
        "Display first 10 rows of data_df"
      ]
    },
    {
      "cell_type": "code",
      "execution_count": 41,
      "metadata": {
        "colab": {
          "base_uri": "https://localhost:8080/"
        },
        "id": "gaw2q61JQxkr",
        "outputId": "5d7c5f50-2e13-4920-8c7f-a0cf312def94"
      },
      "outputs": [
        {
          "name": "stdout",
          "output_type": "stream",
          "text": [
            "     ID  Year_Birth   Education Marital_Status   Income  Kidhome  Teenhome  \\\n",
            "0  5524        1957  Graduation         Single  58138.0        0         0   \n",
            "1  2174        1954  Graduation         Single  46344.0        1         1   \n",
            "2  4141        1965  Graduation       Together  71613.0        0         0   \n",
            "3  6182        1984  Graduation       Together  26646.0        1         0   \n",
            "4  5324        1981         PhD        Married  58293.0        1         0   \n",
            "5  7446        1967      Master       Together  62513.0        0         1   \n",
            "6   965        1971  Graduation       Divorced  55635.0        0         1   \n",
            "7  6177        1985         PhD        Married  33454.0        1         0   \n",
            "8  4855        1974         PhD       Together  30351.0        1         0   \n",
            "9  5899        1950         PhD       Together   5648.0        1         1   \n",
            "\n",
            "  Dt_Customer  Recency  MntWines  ...  NumWebVisitsMonth  AcceptedCmp3  \\\n",
            "0    4/9/2012       58       635  ...                  7             0   \n",
            "1    8/3/2014       38        11  ...                  5             0   \n",
            "2  21-08-2013       26       426  ...                  4             0   \n",
            "3   10/2/2014       26        11  ...                  6             0   \n",
            "4  19-01-2014       94       173  ...                  5             0   \n",
            "5    9/9/2013       16       520  ...                  6             0   \n",
            "6  13-11-2012       34       235  ...                  6             0   \n",
            "7    8/5/2013       32        76  ...                  8             0   \n",
            "8    6/6/2013       19        14  ...                  9             0   \n",
            "9  13-03-2014       68        28  ...                 20             1   \n",
            "\n",
            "   AcceptedCmp4  AcceptedCmp5  AcceptedCmp1  AcceptedCmp2  Complain  \\\n",
            "0             0             0             0             0         0   \n",
            "1             0             0             0             0         0   \n",
            "2             0             0             0             0         0   \n",
            "3             0             0             0             0         0   \n",
            "4             0             0             0             0         0   \n",
            "5             0             0             0             0         0   \n",
            "6             0             0             0             0         0   \n",
            "7             0             0             0             0         0   \n",
            "8             0             0             0             0         0   \n",
            "9             0             0             0             0         0   \n",
            "\n",
            "   Z_CostContact  Z_Revenue  Response  \n",
            "0              3         11         1  \n",
            "1              3         11         0  \n",
            "2              3         11         0  \n",
            "3              3         11         0  \n",
            "4              3         11         0  \n",
            "5              3         11         0  \n",
            "6              3         11         0  \n",
            "7              3         11         0  \n",
            "8              3         11         1  \n",
            "9              3         11         0  \n",
            "\n",
            "[10 rows x 29 columns]\n"
          ]
        }
      ],
      "source": [
        "print(data_df.head(10))\n"
      ]
    },
    {
      "cell_type": "markdown",
      "metadata": {
        "id": "EK1p_OWENwVG"
      },
      "source": [
        "Create 4 pandas DataFrame objects consisting of given columns:\n",
        "\n",
        "*   people_df ('ID', 'Year_Birth', 'Education', 'Marital_Status', 'Income', 'Kidhome', 'Teenhome', 'Dt_Customer', 'Recency', 'Complain')\n",
        "*   product_df ('ID','MntWines', 'MntFruits', 'MntMeatProducts','MntFishProducts', 'MntSweetProducts', 'MntGoldPods')\n",
        "*   promotions_df ('ID','NumDealsPurchases', 'AcceptedCmp1', 'AcceptedCmp2','AcceptedCmp3', 'AcceptedCmp4', 'AcceptedCmp5', 'Response')\n",
        "*   place_df ('ID','NumWebPurchases', 'NumCatalogPurchases', 'NumStorePurchases','NumWebVisitsMonth')\n",
        "\n",
        "\n",
        "\n"
      ]
    },
    {
      "cell_type": "code",
      "execution_count": 42,
      "metadata": {
        "id": "0ESQV1IcQyCx"
      },
      "outputs": [],
      "source": [
        "people_df = pd.DataFrame(data_df.loc[:,['ID', 'Year_Birth', 'Education', 'Marital_Status', 'Income', 'Kidhome', 'Teenhome', 'Dt_Customer', 'Recency', 'Complain']])\n",
        "\n",
        "product_df = pd.DataFrame(data_df.loc[:,['ID', 'MntWines', 'MntFruits', 'MntMeatProducts', 'MntFishProducts', 'MntSweetProducts', 'MntGoldProds']])\n",
        "\n",
        "promotions_df = pd.DataFrame(data_df.loc[:,['ID', 'NumDealsPurchases', 'AcceptedCmp1', 'AcceptedCmp2', 'AcceptedCmp3', 'AcceptedCmp4', 'AcceptedCmp5', 'Response']])\n",
        "\n",
        "place_df = pd.DataFrame(data_df.loc[:,['ID', 'NumWebPurchases', 'NumCatalogPurchases', 'NumStorePurchases', 'NumWebVisitsMonth']])\n"
      ]
    },
    {
      "cell_type": "markdown",
      "metadata": {
        "id": "-XFLa6m4O3tt"
      },
      "source": [
        "Display count of unique values from Marital_Status column (people_df DataFrame)"
      ]
    },
    {
      "cell_type": "code",
      "execution_count": 43,
      "metadata": {
        "colab": {
          "base_uri": "https://localhost:8080/"
        },
        "id": "mDKF5Uj9Qyy-",
        "outputId": "a4e57e04-7343-44de-c7a1-eb7500d319c6"
      },
      "outputs": [
        {
          "name": "stdout",
          "output_type": "stream",
          "text": [
            "Married     864\n",
            "Together    580\n",
            "Single      480\n",
            "Divorced    232\n",
            "Widow        77\n",
            "Alone         3\n",
            "Absurd        2\n",
            "YOLO          2\n",
            "Name: Marital_Status, dtype: int64\n"
          ]
        }
      ],
      "source": [
        "# Check value_counts() function\n",
        "print(people_df['Marital_Status'].value_counts())\n",
        "\n"
      ]
    },
    {
      "cell_type": "markdown",
      "metadata": {
        "id": "kyhcDA3-P6Xu"
      },
      "source": [
        "Modify values Maritial_Status column (in people_df DataFrame). \n",
        "\n",
        "> Replace 'Married', 'Together' with 'Relationship'\n",
        "\n",
        "\n",
        "> Replace 'Single', 'Divorced', 'Widow', 'Alone', 'YOLO', 'Absurd' with 'Single'\n",
        "\n",
        "\n",
        "\n"
      ]
    },
    {
      "cell_type": "code",
      "execution_count": 44,
      "metadata": {
        "id": "851xPC7GQzm2"
      },
      "outputs": [],
      "source": [
        "people_df['Marital_Status'].replace(['Married', 'Together'], 'Relationship', inplace=True)\n",
        "\n",
        "people_df['Marital_Status'].replace(['Single', 'Divorced', 'Widow', 'Alone', 'YOLO', 'Absurd'], 'Single', inplace=True)\n"
      ]
    },
    {
      "cell_type": "markdown",
      "metadata": {
        "id": "KJww5siNPiaq"
      },
      "source": [
        "Create new column named 'Kids' with a value of sum Teenhome and Kidhome (in people_df DataFrame)"
      ]
    },
    {
      "cell_type": "code",
      "execution_count": 45,
      "metadata": {
        "id": "s-km7m_aQ0Jh"
      },
      "outputs": [],
      "source": [
        "people_df['Kids'] = people_df['Teenhome'] + people_df['Kidhome']"
      ]
    },
    {
      "cell_type": "markdown",
      "metadata": {
        "id": "YNnax7NwQdTA"
      },
      "source": [
        "Create new column 'Age'. Calculate values in this column using column 'Year_Birth'"
      ]
    },
    {
      "cell_type": "code",
      "execution_count": 46,
      "metadata": {
        "id": "whjUhKp2Q0uS"
      },
      "outputs": [],
      "source": [
        "people_df['Age']= 2023 - people_df['Year_Birth']"
      ]
    },
    {
      "cell_type": "markdown",
      "metadata": {
        "id": "lid2GxCmRfmy"
      },
      "source": [
        "Rename column name Recency to Last_Purchase in people_df DataFrame"
      ]
    },
    {
      "cell_type": "code",
      "execution_count": 47,
      "metadata": {
        "colab": {
          "base_uri": "https://localhost:8080/"
        },
        "id": "AGhQVvb4Vg0U",
        "outputId": "8324d144-609e-46f5-9793-04039b64c301"
      },
      "outputs": [
        {
          "name": "stdout",
          "output_type": "stream",
          "text": [
            "Index(['ID', 'Year_Birth', 'Education', 'Marital_Status', 'Income', 'Kidhome',\n",
            "       'Teenhome', 'Dt_Customer', 'Last_Purchase', 'Complain', 'Kids', 'Age'],\n",
            "      dtype='object')\n"
          ]
        }
      ],
      "source": [
        "people_df = people_df.rename(columns={'Recency': 'Last_Purchase'})\n",
        "print(people_df.columns)"
      ]
    },
    {
      "cell_type": "markdown",
      "metadata": {
        "id": "n-yqaGkIXAZ4"
      },
      "source": [
        "Create new Dataframe people_new from processed people_df. Include columns 'ID', 'Education', 'Marital_Status', 'Income', 'Last_Purchase', 'Complain', 'Kids', 'Age'"
      ]
    },
    {
      "cell_type": "code",
      "execution_count": 48,
      "metadata": {
        "id": "N4uEWZVjWyVv"
      },
      "outputs": [],
      "source": [
        "people_new = people_df[['ID', 'Education', 'Marital_Status', 'Income', 'Last_Purchase', 'Complain', 'Kids', 'Age']]"
      ]
    },
    {
      "cell_type": "markdown",
      "metadata": {
        "id": "z8SB4_upfUyE"
      },
      "source": [
        "Create a new DataFrame named education_counts which contains the number of occurrences of each unique value in the Education column from DataFrame people_new"
      ]
    },
    {
      "cell_type": "code",
      "execution_count": 49,
      "metadata": {
        "colab": {
          "base_uri": "https://localhost:8080/"
        },
        "id": "fhsdQMK_aQdk",
        "outputId": "d1e6e5a6-c0d5-423f-8386-17c935888e75"
      },
      "outputs": [
        {
          "name": "stdout",
          "output_type": "stream",
          "text": [
            "Education \n",
            "Graduation    1127\n",
            "PhD            486\n",
            "Master         370\n",
            "2n Cycle       203\n",
            "Basic           54\n",
            "dtype: int64\n"
          ]
        }
      ],
      "source": [
        "education_counts = people_new[['Education']].value_counts()\n",
        "print(education_counts)"
      ]
    },
    {
      "cell_type": "markdown",
      "metadata": {
        "id": "8Ih5ESm1fpb8"
      },
      "source": [
        "Create a new DataFrame named mean_income which contains the mean income for each unique value in the Education column from DataFrame people_new"
      ]
    },
    {
      "cell_type": "code",
      "execution_count": 50,
      "metadata": {
        "colab": {
          "base_uri": "https://localhost:8080/"
        },
        "id": "STs4tCsCewPW",
        "outputId": "fb4a418f-9b11-4c51-9676-464a948b4f13"
      },
      "outputs": [
        {
          "name": "stdout",
          "output_type": "stream",
          "text": [
            "    Education   mean_Income\n",
            "0    2n Cycle  47633.190000\n",
            "1       Basic  20306.259259\n",
            "2  Graduation  52720.373656\n",
            "3      Master  52917.534247\n",
            "4         PhD  56145.313929\n"
          ]
        }
      ],
      "source": [
        "mean_income = people_new.groupby('Education')['Income'].mean().reset_index()\n",
        "mean_income.columns=['Education', 'mean_Income']\n",
        "print(mean_income)\n"
      ]
    },
    {
      "cell_type": "markdown",
      "metadata": {
        "id": "1PfFaDi6jrot"
      },
      "source": [
        "Merge education_counts and mean_income basing on Education column into one dataframe named education_desc"
      ]
    },
    {
      "cell_type": "code",
      "execution_count": 51,
      "metadata": {
        "id": "9oDFwsgFg7HU"
      },
      "outputs": [],
      "source": [
        "education_desc = education_counts.to_frame().merge(mean_income, on='Education')"
      ]
    },
    {
      "cell_type": "markdown",
      "metadata": {
        "id": "7kJpbZJ-dz7f"
      },
      "source": [
        "Create a countplot showing relationship between the occurrence(counts) of people for each Marital_status grouped by Education"
      ]
    },
    {
      "cell_type": "code",
      "execution_count": 52,
      "metadata": {
        "colab": {
          "base_uri": "https://localhost:8080/",
          "height": 297
        },
        "id": "mbEYbaKKXeLR",
        "outputId": "d7e07200-0402-4b09-9f08-d844e36e4cb8"
      },
      "outputs": [
        {
          "data": {
            "text/plain": [
              "<Axes: xlabel='Marital_Status', ylabel='count'>"
            ]
          },
          "execution_count": 52,
          "metadata": {},
          "output_type": "execute_result"
        },
        {
          "data": {
            "image/png": "[encoded data removed]",
            "text/plain": [
              "<Figure size 432x288 with 1 Axes>"
            ]
          },
          "metadata": {
            "needs_background": "light"
          },
          "output_type": "display_data"
        }
      ],
      "source": [
        "sns.countplot(x='Marital_Status', hue='Education', data=people_df)\n"
      ]
    },
    {
      "cell_type": "markdown",
      "metadata": {
        "id": "ULJgXb_Vpr6G"
      },
      "source": [
        "Create a barplot showing the relationship between a people's mean age and Marital_Status"
      ]
    },
    {
      "cell_type": "code",
      "execution_count": 53,
      "metadata": {
        "colab": {
          "base_uri": "https://localhost:8080/",
          "height": 297
        },
        "id": "zRu7u8QaprPx",
        "outputId": "a6271d3f-4be8-4e7b-c359-7f7d0caade13"
      },
      "outputs": [
        {
          "data": {
            "text/plain": [
              "<Axes: xlabel='Marital_Status', ylabel='Age'>"
            ]
          },
          "execution_count": 53,
          "metadata": {},
          "output_type": "execute_result"
        },
        {
          "data": {
            "image/png": "[encoded data removed]",
            "text/plain": [
              "<Figure size 432x288 with 1 Axes>"
            ]
          },
          "metadata": {
            "needs_background": "light"
          },
          "output_type": "display_data"
        }
      ],
      "source": [
        "sns.barplot(x='Marital_Status', y='Age', data=people_df, estimator=np.mean)"
      ]
    },
    {
      "cell_type": "markdown",
      "metadata": {
        "id": "klyQkTgrwrhf"
      },
      "source": [
        "Create a scatterplot showing the relationship between Age and mean income in specified Age (Mean Income = f(Age)) \n"
      ]
    },
    {
      "cell_type": "code",
      "execution_count": 54,
      "metadata": {
        "colab": {
          "base_uri": "https://localhost:8080/",
          "height": 296
        },
        "id": "iXAGexwkwr3F",
        "outputId": "de260c53-a4d0-4bd6-a4ef-cf8c56846d03"
      },
      "outputs": [
        {
          "data": {
            "text/plain": [
              "<Axes: xlabel='Age', ylabel='Income'>"
            ]
          },
          "execution_count": 54,
          "metadata": {},
          "output_type": "execute_result"
        },
        {
          "data": {
            "image/png": "[encoded data removed]",
            "text/plain": [
              "<Figure size 432x288 with 1 Axes>"
            ]
          },
          "metadata": {
            "needs_background": "light"
          },
          "output_type": "display_data"
        }
      ],
      "source": [
        "age_subset = people_df[people_df['Age'] == 40]\n",
        "sns.scatterplot(x='Age', y='Income', data=age_subset)"
      ]
    }
  ],
  "metadata": {
    "colab": {
      "provenance": []
    },
    "kernelspec": {
      "display_name": "Python 3",
      "name": "python3"
    },
    "language_info": {
      "name": "python"
    }
  },
  "nbformat": 4,
  "nbformat_minor": 0
}
